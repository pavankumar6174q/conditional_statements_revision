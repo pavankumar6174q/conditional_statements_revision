{
 "cells": [
  {
   "cell_type": "code",
   "execution_count": 1,
   "id": "ca01006a",
   "metadata": {},
   "outputs": [
    {
     "name": "stdout",
     "output_type": "stream",
     "text": [
      "you are eligible for vote\n"
     ]
    }
   ],
   "source": [
    "#condition statements\n",
    "#if\n",
    "#else\n",
    "#elif\n",
    "#nested if\n",
    "#task 1\n",
    "\n",
    "age = 23\n",
    "if age >18:\n",
    "    print(\"you are eligible for vote\")"
   ]
  },
  {
   "cell_type": "code",
   "execution_count": 6,
   "id": "d82379e3",
   "metadata": {},
   "outputs": [
    {
     "name": "stdout",
     "output_type": "stream",
     "text": [
      "enter your pin 1234\n",
      "welcome back sir\n"
     ]
    }
   ],
   "source": [
    "bank = \"icici\"\n",
    "pin = int(input(\"enter your pin \"))\n",
    "\n",
    "if bank == \"icici\" and pin>999 and pin<10000:\n",
    "    print(\"welcome back sir\")\n",
    "    \n",
    "else:\n",
    "    print(\"you have entered wrong credentials\")"
   ]
  },
  {
   "cell_type": "code",
   "execution_count": 7,
   "id": "6222e32f",
   "metadata": {},
   "outputs": [
    {
     "name": "stdout",
     "output_type": "stream",
     "text": [
      "enter your pin  0034\n",
      "you have entered wrong credentials\n"
     ]
    }
   ],
   "source": [
    "bank = \"icici\"\n",
    "pin = int(input(\"enter your pin  \"))\n",
    "\n",
    "if bank == \"icici\" and pin>999 and pin<10000:\n",
    "    print(\"welcome back sir\")\n",
    "    \n",
    "else:\n",
    "    print(\"you have entered wrong credentials\")"
   ]
  },
  {
   "cell_type": "code",
   "execution_count": 16,
   "id": "bb4f4485",
   "metadata": {},
   "outputs": [
    {
     "name": "stdout",
     "output_type": "stream",
     "text": [
      "enter your bank : \n",
      "pnb\n",
      "enter your pin : \n",
      "12\n",
      "how much do you want to withdraw:\n",
      "4629\n",
      "you have entered wrong pin\n"
     ]
    }
   ],
   "source": [
    "bank = input('enter your bank : \\n')\n",
    "pin = input('enter your pin : \\n')\n",
    "lpin = len(pin)\n",
    "balance = input(\"how much do you want to withdraw:\\n\")\n",
    "savings = 10000\n",
    "if bank == 'sbi'or 'icici' or 'pnb':\n",
    "    if lpin == 4:\n",
    "        if balance < savings:\n",
    "            balance\n",
    "            print(f'your acc has been debited with {balance} $')\n",
    "    else:\n",
    "        print(\"you have entered wrong pin\")\n",
    "else:\n",
    "    print(\"you have entered wrong details\")"
   ]
  }
 ],
 "metadata": {
  "kernelspec": {
   "display_name": "Python 3 (ipykernel)",
   "language": "python",
   "name": "python3"
  },
  "language_info": {
   "codemirror_mode": {
    "name": "ipython",
    "version": 3
   },
   "file_extension": ".py",
   "mimetype": "text/x-python",
   "name": "python",
   "nbconvert_exporter": "python",
   "pygments_lexer": "ipython3",
   "version": "3.11.3"
  }
 },
 "nbformat": 4,
 "nbformat_minor": 5
}
